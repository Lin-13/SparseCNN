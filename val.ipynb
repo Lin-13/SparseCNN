{
 "cells": [
  {
   "cell_type": "code",
   "execution_count": 1,
   "metadata": {},
   "outputs": [],
   "source": [
    "import torch\n",
    "import torch.nn as nn\n",
    "from torch.utils.data import DataLoader\n",
    "from dataset import KITTIDataset\n",
    "import tqdm\n",
    "from matplotlib import pyplot as plt\n",
    "import numpy as np\n",
    "import time\n",
    "from model import SparseConv2d,MyFCN,FCN32s,MySparseFCN\n",
    "batch_size = 8\n",
    "test_data = KITTIDataset(num=0,file=\"val\")\n",
    "test_dataloader = DataLoader(test_data,batch_size=batch_size,shuffle=True)\n",
    "criterion = torch.nn.L1Loss(reduction='mean')\n",
    "\n",
    "model = MyFCN(in_channel=1,n_class=1)\n",
    "model.load_state_dict(torch.load(f\"model/{model.__class__.__name__}_epoch20.pt\"))\n",
    "device = \"cuda\" if torch.cuda.is_available() else \"cpu\""
   ]
  },
  {
   "cell_type": "code",
   "execution_count": 2,
   "metadata": {},
   "outputs": [
    {
     "name": "stderr",
     "output_type": "stream",
     "text": [
      "100%|██████████| 429/429 [03:37<00:00,  1.98it/s]\n"
     ]
    }
   ],
   "source": [
    "losses = []\n",
    "model.eval()\n",
    "model.to(device)\n",
    "with torch.no_grad():\n",
    "    bar = tqdm.tqdm(range(len(test_dataloader)))\n",
    "    for feature,groundtruth in test_dataloader:\n",
    "        feature = feature.to(device)\n",
    "        groundtruth = groundtruth.to(device)\n",
    "        loss = criterion(model(feature),groundtruth)\n",
    "        losses.append(loss.item())\n",
    "        bar.update()\n",
    "    bar.close()"
   ]
  },
  {
   "cell_type": "code",
   "execution_count": 3,
   "metadata": {},
   "outputs": [
    {
     "name": "stdout",
     "output_type": "stream",
     "text": [
      "MAE in test dataset of 3426 imgs:4.646885761847863\n"
     ]
    }
   ],
   "source": [
    "print(f\"MAE in test dataset of {len(test_data)} imgs:{np.array(losses).mean()}\")"
   ]
  },
  {
   "cell_type": "code",
   "execution_count": 4,
   "metadata": {},
   "outputs": [
    {
     "name": "stdout",
     "output_type": "stream",
     "text": [
      "Index:0\tsync:2011_09_26_drive_0002_sync\tShape:torch.Size([1, 370, 1224])\n",
      "Index:67\tsync:2011_09_26_drive_0005_sync\tShape:torch.Size([1, 370, 1224])\n",
      "Index:211\tsync:2011_09_26_drive_0013_sync\tShape:torch.Size([1, 370, 1224])\n",
      "Index:345\tsync:2011_09_26_drive_0020_sync\tShape:torch.Size([1, 370, 1224])\n",
      "Index:421\tsync:2011_09_26_drive_0023_sync\tShape:torch.Size([1, 370, 1224])\n",
      "Index:885\tsync:2011_09_26_drive_0036_sync\tShape:torch.Size([1, 370, 1224])\n",
      "Index:1678\tsync:2011_09_26_drive_0079_sync\tShape:torch.Size([1, 370, 1224])\n",
      "Index:1768\tsync:2011_09_26_drive_0095_sync\tShape:torch.Size([1, 370, 1224])\n",
      "Index:2026\tsync:2011_09_26_drive_0113_sync\tShape:torch.Size([1, 370, 1224])\n",
      "Index:2103\tsync:2011_09_28_drive_0037_sync\tShape:torch.Size([1, 370, 1224])\n",
      "Index:2182\tsync:2011_09_29_drive_0026_sync\tShape:torch.Size([1, 370, 1224])\n",
      "Index:2330\tsync:2011_09_30_drive_0016_sync\tShape:torch.Size([1, 370, 1224])\n",
      "Index:2599\tsync:2011_10_03_drive_0047_sync\tShape:torch.Size([1, 370, 1224])\n"
     ]
    }
   ],
   "source": [
    "index = test_data.index_threshold.copy()\n",
    "index.pop()\n",
    "index.insert(0,0)\n",
    "for i,sync in zip(index,test_data.num_imgs_sync.keys()):\n",
    "    print(f\"Index:{i}\\tsync:{sync}\\tShape:{test_data[i][0].shape}\")"
   ]
  }
 ],
 "metadata": {
  "kernelspec": {
   "display_name": "py_env",
   "language": "python",
   "name": "python3"
  },
  "language_info": {
   "codemirror_mode": {
    "name": "ipython",
    "version": 3
   },
   "file_extension": ".py",
   "mimetype": "text/x-python",
   "name": "python",
   "nbconvert_exporter": "python",
   "pygments_lexer": "ipython3",
   "version": "3.9.7"
  },
  "orig_nbformat": 4
 },
 "nbformat": 4,
 "nbformat_minor": 2
}
